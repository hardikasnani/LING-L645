{
 "cells": [
  {
   "cell_type": "code",
   "execution_count": 2,
   "id": "d9235060",
   "metadata": {},
   "outputs": [
    {
     "name": "stdout",
     "output_type": "stream",
     "text": [
      "0 [[3, 2, 3, 0, 3, 0, 3, 0, 3, 2], 8.047189562170502]\n",
      "1 [[3, 2, 3, 0, 3, 0, 3, 0, 3, 1], 8.27033311348471]\n",
      "2 [[3, 2, 3, 0, 3, 0, 3, 1, 3, 2], 8.27033311348471]\n"
     ]
    }
   ],
   "source": [
    "from math import log\n",
    "import numpy as np\n",
    "\n",
    "# beam search\n",
    "def beam_search_decoder(data, k):\n",
    "    sequences = [[list(), 0.0]]\n",
    "    # walk over each step in sequence\n",
    "\n",
    "    max_T, max_A = data.shape\n",
    "\n",
    "    # Loop over time\n",
    "    for t in range(max_T):\n",
    "        all_candidates = list()\n",
    "        # expand each current candidate\n",
    "        for i in range(len(sequences)):\n",
    "            seq, score = sequences[i]\n",
    "            # Loop over possible alphabet outputs\n",
    "            for c in range(max_A - 1):\n",
    "                candidate = [seq + [c], score - log(data[t, c])]\n",
    "                all_candidates.append(candidate)\n",
    "        # order all candidates by score\n",
    "        ordered = sorted(all_candidates, key=lambda tup:tup[1])\n",
    "        # select k best\n",
    "        sequences = ordered[:k]\n",
    "    return sequences\n",
    "\n",
    "# define a sequence of 10 words (rows) over a vocab of 5 words (columns), \n",
    "# e.g.\n",
    "#      a  bites cat  dog  the\n",
    "# 1   0.1  0.2  0.3  0.4  0.5\n",
    "# 2   0.5  0.3  0.5  0.2  0.1\n",
    "# ...\n",
    "# 10  0.3  0.4  0.5  0.2  0.1 \n",
    "\n",
    "data = [[0.1, 0.2, 0.3, 0.4, 0.5],\n",
    "        [0.4, 0.3, 0.5, 0.2, 0.1],\n",
    "        [0.1, 0.2, 0.3, 0.4, 0.5],\n",
    "        [0.5, 0.4, 0.3, 0.2, 0.1],\n",
    "        [0.1, 0.2, 0.3, 0.4, 0.5],\n",
    "        [0.5, 0.4, 0.3, 0.2, 0.1],\n",
    "        [0.1, 0.2, 0.3, 0.4, 0.5],\n",
    "        [0.5, 0.4, 0.3, 0.2, 0.1],\n",
    "        [0.1, 0.2, 0.3, 0.4, 0.5],\n",
    "        [0.3, 0.4, 0.5, 0.2, 0.1]]\n",
    "\n",
    "data = np.array(data)\n",
    "\n",
    "beam_width = 3\n",
    "\n",
    "# decode sequence\n",
    "result = beam_search_decoder(data, beam_width)\n",
    "# print result\n",
    "for i, seq in enumerate(result):\n",
    "    print(i, seq)"
   ]
  },
  {
   "cell_type": "markdown",
   "id": "54b377a1",
   "metadata": {},
   "source": [
    "## Exercise 1"
   ]
  },
  {
   "cell_type": "code",
   "execution_count": 3,
   "id": "d7749f33",
   "metadata": {},
   "outputs": [
    {
     "name": "stdout",
     "output_type": "stream",
     "text": [
      "we mustsois find a newose tholme in the stsar es\n",
      "we mustsois find a newos tholme in the stsar es\n",
      "we mustsois find a newose tholme in the stsar os\n"
     ]
    }
   ],
   "source": [
    "from math import log\n",
    "import numpy as np\n",
    "import json\n",
    "\n",
    "# beam search\n",
    "def beam_search_decoder(data, k):\n",
    "    sequences = [[list(), 0.0]]\n",
    "    # walk over each step in sequence\n",
    "\n",
    "    max_T, max_A = data.shape\n",
    "\n",
    "    # Loop over time\n",
    "    for t in range(max_T):\n",
    "        all_candidates = list()\n",
    "        # expand each current candidate\n",
    "        for i in range(len(sequences)):\n",
    "            seq, score = sequences[i]\n",
    "            # Loop over possible alphabet outputs\n",
    "            for c in range(max_A - 1):\n",
    "                candidate = [seq + [c], score - log(data[t, c])]\n",
    "                all_candidates.append(candidate)\n",
    "        # order all candidates by score\n",
    "        ordered = sorted(all_candidates, key=lambda tup:tup[1])\n",
    "        # select k best\n",
    "        sequences = ordered[:k]\n",
    "    return sequences\n",
    "\n",
    "f = open('/Users/hardikasnani/Documents/output.json')\n",
    "data = json.load(f)\n",
    "\n",
    "data_logits = np.array(data['logits'])\n",
    "\n",
    "beam_width = 3\n",
    "\n",
    "# decode sequence\n",
    "result = beam_search_decoder(data_logits, beam_width)\n",
    "\n",
    "# print result\n",
    "data_alphabets = data['alphabet']\n",
    "\n",
    "for i, seq in enumerate(result):\n",
    "    all_characters = seq[0]\n",
    "    collapsed_alphabets = []\n",
    "    \n",
    "    for index,char_index in enumerate(all_characters):\n",
    "        if index == 0:\n",
    "            collapsed_alphabets.append(data_alphabets[char_index])\n",
    "        else:\n",
    "            if data_alphabets[char_index] != collapsed_alphabets[-1]:\n",
    "                collapsed_alphabets.append(data_alphabets[char_index])\n",
    "                \n",
    "                \n",
    "    print(\"\".join(collapsed_alphabets))"
   ]
  },
  {
   "cell_type": "markdown",
   "id": "72613eb0",
   "metadata": {},
   "source": [
    "## Exercise 2"
   ]
  },
  {
   "cell_type": "code",
   "execution_count": 4,
   "id": "775b76ee",
   "metadata": {},
   "outputs": [
    {
     "data": {
      "image/png": "[encoded data removed]",
      "text/plain": [
       "<Figure size 720x720 with 1 Axes>"
      ]
     },
     "metadata": {
      "needs_background": "light"
     },
     "output_type": "display_data"
    }
   ],
   "source": [
    "import seaborn as sns\n",
    "from matplotlib import pyplot as plt\n",
    "\n",
    "fig, ax = plt.subplots(figsize=(10,10))\n",
    "im = ax.imshow(data_logits)\n",
    "plt.show()"
   ]
  }
 ],
 "metadata": {
  "kernelspec": {
   "display_name": "Python 3 (ipykernel)",
   "language": "python",
   "name": "python3"
  },
  "language_info": {
   "codemirror_mode": {
    "name": "ipython",
    "version": 3
   },
   "file_extension": ".py",
   "mimetype": "text/x-python",
   "name": "python",
   "nbconvert_exporter": "python",
   "pygments_lexer": "ipython3",
   "version": "3.9.7"
  }
 },
 "nbformat": 4,
 "nbformat_minor": 5
}
