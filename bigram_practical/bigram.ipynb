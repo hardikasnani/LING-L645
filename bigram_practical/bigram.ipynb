{
 "cells": [
  {
   "cell_type": "code",
   "execution_count": 128,
   "id": "2c11f74d-4598-425f-8ea4-4ccf7423601d",
   "metadata": {},
   "outputs": [],
   "source": [
    "train_corpus = [\"are you still here ?\",\n",
    "\"where are you ?\",\n",
    "\"are you tired ?\",\n",
    "\"i am tired .\",\n",
    "\"are you in england ?\",\n",
    "\"were you in mexico ?\"]"
   ]
  },
  {
   "cell_type": "markdown",
   "id": "5a905564-61b4-4082-bc42-ce3d60e0fe05",
   "metadata": {},
   "source": [
    "## Unigrams"
   ]
  },
  {
   "cell_type": "code",
   "execution_count": 129,
   "id": "613e62fa-d4a7-4e83-b092-8e9ba9fea13a",
   "metadata": {},
   "outputs": [],
   "source": [
    "def calculate_unigrams(corpus):\n",
    "    unigrams = {}\n",
    "    total_words = 0\n",
    "    for sentence in corpus:\n",
    "        sentence = '<BOS> ' + sentence\n",
    "        for word in sentence.split(\" \"):\n",
    "            if word not in unigrams:\n",
    "                unigrams[word] = 1\n",
    "            else:\n",
    "                unigrams[word]+=1\n",
    "            total_words +=1\n",
    "    return unigrams, total_words"
   ]
  },
  {
   "cell_type": "code",
   "execution_count": 130,
   "id": "f95b1d80-54b3-454a-bfd3-99a9d81d5ce3",
   "metadata": {},
   "outputs": [],
   "source": [
    "def calculate_unigrams_probability(unigrams, total_tokens):\n",
    "    prob_values = {}\n",
    "    for word in unigrams:\n",
    "        prob_values[word] = unigrams[word]/total_tokens\n",
    "    return prob_values"
   ]
  },
  {
   "cell_type": "code",
   "execution_count": 131,
   "id": "32895f5a-0c95-402c-8910-9772292db320",
   "metadata": {},
   "outputs": [
    {
     "name": "stdout",
     "output_type": "stream",
     "text": [
      "{'<BOS>': 6, 'are': 4, 'you': 5, 'still': 1, 'here': 1, '?': 5, 'where': 1, 'tired': 2, 'i': 1, 'am': 1, '.': 1, 'in': 2, 'england': 1, 'were': 1, 'mexico': 1} 33\n"
     ]
    }
   ],
   "source": [
    "unigrams, total_tokens = calculate_unigrams(train_corpus)\n",
    "print(unigrams, total_tokens)"
   ]
  },
  {
   "cell_type": "code",
   "execution_count": 132,
   "id": "355176cd-e997-4b9a-a1cb-d26895834687",
   "metadata": {},
   "outputs": [],
   "source": [
    "unigram_probabilities = calculate_unigrams_probability(unigrams, total_tokens)"
   ]
  },
  {
   "cell_type": "code",
   "execution_count": 133,
   "id": "499807fd-66a9-40aa-be49-d18fa62aa5d6",
   "metadata": {},
   "outputs": [
    {
     "data": {
      "text/plain": [
       "{'<BOS>': 0.18181818181818182,\n",
       " 'are': 0.12121212121212122,\n",
       " 'you': 0.15151515151515152,\n",
       " 'still': 0.030303030303030304,\n",
       " 'here': 0.030303030303030304,\n",
       " '?': 0.15151515151515152,\n",
       " 'where': 0.030303030303030304,\n",
       " 'tired': 0.06060606060606061,\n",
       " 'i': 0.030303030303030304,\n",
       " 'am': 0.030303030303030304,\n",
       " '.': 0.030303030303030304,\n",
       " 'in': 0.06060606060606061,\n",
       " 'england': 0.030303030303030304,\n",
       " 'were': 0.030303030303030304,\n",
       " 'mexico': 0.030303030303030304}"
      ]
     },
     "execution_count": 133,
     "metadata": {},
     "output_type": "execute_result"
    }
   ],
   "source": [
    "unigram_probabilities"
   ]
  },
  {
   "cell_type": "markdown",
   "id": "c739fcd5-664a-4a65-a513-c489b5062a9b",
   "metadata": {},
   "source": [
    "## Unigram Combine Probability"
   ]
  },
  {
   "cell_type": "code",
   "execution_count": 134,
   "id": "fa9084e9-6831-4751-8ea2-5616d5cf1b62",
   "metadata": {},
   "outputs": [],
   "source": [
    "def calculate_unigram_combine_probability(probability_values):\n",
    "    combine_probability = 1\n",
    "    for probability in probability_values.values():\n",
    "        combine_probability *= probability  \n",
    "    return combine_probability"
   ]
  },
  {
   "cell_type": "markdown",
   "id": "9ace2167-7ae9-4ed4-9683-2a412332ee21",
   "metadata": {},
   "source": [
    "## Unigram Perplexity"
   ]
  },
  {
   "cell_type": "code",
   "execution_count": 135,
   "id": "179e66e8-af9c-46d5-9bfd-706960397524",
   "metadata": {},
   "outputs": [],
   "source": [
    "unigrams, total_tokens = calculate_unigrams(train_corpus)\n",
    "\n",
    "unigram_probabilities = calculate_unigrams_probability(unigrams, total_tokens)\n",
    "\n",
    "combine_probability = calculate_unigram_combine_probability(unigram_probabilities)\n",
    "\n",
    "## Question : Whether to use len(unigram) or total_tokens\n",
    "unigram_train_perplexity = combine_probability ** (-1/(total_tokens-1))"
   ]
  },
  {
   "cell_type": "code",
   "execution_count": 136,
   "id": "a396e452-d01e-4b91-b4ad-0aa4fdc2ed95",
   "metadata": {},
   "outputs": [
    {
     "data": {
      "text/plain": [
       "4.038051077131478"
      ]
     },
     "execution_count": 136,
     "metadata": {},
     "output_type": "execute_result"
    }
   ],
   "source": [
    "unigram_train_perplexity"
   ]
  },
  {
   "cell_type": "markdown",
   "id": "d5ac1e86-889d-4d53-bd9c-30c5347c7102",
   "metadata": {},
   "source": [
    "## Unigrams Test Perplexity"
   ]
  },
  {
   "cell_type": "code",
   "execution_count": 137,
   "id": "939fa34f-b673-49af-9e05-badf59516929",
   "metadata": {},
   "outputs": [
    {
     "name": "stdout",
     "output_type": "stream",
     "text": [
      "30 {'<BOS>': 5, 'are': 3, 'you': 4, 'in': 4, 'mexico': 3, '?': 4, 'i': 1, 'am': 1, '.': 1, 'still': 1, 'were': 1, 'england': 1, 'where': 1}\n",
      "3.7543476179207453\n"
     ]
    }
   ],
   "source": [
    "test_corpus = [\"are you in mexico ?\",\n",
    "\"i am in mexico .\",\n",
    "\"are you still in mexico ?\",\n",
    "\"were you in england ?\",\n",
    "\"where are you ?\"]\n",
    "\n",
    "test_unigrams, test_total_tokens = calculate_unigrams(test_corpus)\n",
    "\n",
    "print(test_total_tokens, test_unigrams)\n",
    "\n",
    "combine_probability = 1\n",
    "for unigram in test_unigrams:\n",
    "    ## Question : What if we get new unigram which is not in train corpus - (0.01/total_tokens)\n",
    "    combine_probability*=unigram_probabilities[unigram]\n",
    "    \n",
    "# print(combine_probability)\n",
    "\n",
    "## Question : Whether to use len(unigram) or total_tokens (SAME AS ABOVE)\n",
    "\n",
    "unigram_test_perplexity = combine_probability ** (-1/(test_total_tokens-1))\n",
    "\n",
    "print(unigram_test_perplexity)"
   ]
  },
  {
   "cell_type": "markdown",
   "id": "9cd877a0-c467-43e6-be9a-1f3e53e57d75",
   "metadata": {},
   "source": [
    "## Bigrams"
   ]
  },
  {
   "cell_type": "code",
   "execution_count": 138,
   "id": "3326b174-6226-4f17-81c4-ee26cb653702",
   "metadata": {},
   "outputs": [],
   "source": [
    "def calculate_bigrams(corpus):\n",
    "    bigrams = {}\n",
    "    total_bigrams = 0\n",
    "    for sentence in corpus:\n",
    "        sentence = '<BOS> ' + sentence\n",
    "        words = sentence.split(\" \")\n",
    "        for i in range(len(words)-1):\n",
    "            if (words[i], words[i+1]) not in bigrams:\n",
    "                bigrams[(words[i], words[i+1])] = 1\n",
    "            else:\n",
    "                bigrams[(words[i], words[i+1])]+=1\n",
    "            total_bigrams +=1\n",
    "    return bigrams"
   ]
  },
  {
   "cell_type": "code",
   "execution_count": 139,
   "id": "6a70bcb7-f579-4460-86d2-cd665eccf8e2",
   "metadata": {},
   "outputs": [
    {
     "data": {
      "text/plain": [
       "{('<BOS>', 'are'): 3,\n",
       " ('are', 'you'): 4,\n",
       " ('you', 'still'): 1,\n",
       " ('still', 'here'): 1,\n",
       " ('here', '?'): 1,\n",
       " ('<BOS>', 'where'): 1,\n",
       " ('where', 'are'): 1,\n",
       " ('you', '?'): 1,\n",
       " ('you', 'tired'): 1,\n",
       " ('tired', '?'): 1,\n",
       " ('<BOS>', 'i'): 1,\n",
       " ('i', 'am'): 1,\n",
       " ('am', 'tired'): 1,\n",
       " ('tired', '.'): 1,\n",
       " ('you', 'in'): 2,\n",
       " ('in', 'england'): 1,\n",
       " ('england', '?'): 1,\n",
       " ('<BOS>', 'were'): 1,\n",
       " ('were', 'you'): 1,\n",
       " ('in', 'mexico'): 1,\n",
       " ('mexico', '?'): 1}"
      ]
     },
     "execution_count": 139,
     "metadata": {},
     "output_type": "execute_result"
    }
   ],
   "source": [
    "bigrams = calculate_bigrams(train_corpus)\n",
    "\n",
    "bigrams"
   ]
  },
  {
   "cell_type": "markdown",
   "id": "afdd5c52-10d2-4057-9450-139eef2c9e6a",
   "metadata": {},
   "source": [
    "## Bigram Probability values"
   ]
  },
  {
   "attachments": {
    "f7089101-fb3f-4901-b936-b67991008a04.png": {
     "image/png": "[encoded data removed]"
    }
   },
   "cell_type": "markdown",
   "id": "83bc644f-b2c8-422c-8392-a480c77cbca4",
   "metadata": {},
   "source": [
    "![cErCSrwZcplqoPEBFEYlCeHS.png](attachment:f7089101-fb3f-4901-b936-b67991008a04.png)"
   ]
  },
  {
   "cell_type": "code",
   "execution_count": 140,
   "id": "9baaa7c2-67b6-458b-8f56-e9e3ddfc874d",
   "metadata": {},
   "outputs": [],
   "source": [
    "def calculate_bigram_probability(bigrams, unigrams):\n",
    "    bigram_probabilities = {}\n",
    "    for tokens in bigrams:\n",
    "#         if tokens[0] not in bigram_probabilities:\n",
    "#             bigram_probabilities[tokens[0]] = {tokens[1] : (bigrams[tokens]+1)/(unigrams[tokens[0]]+ len(unigrams))}\n",
    "#         else:\n",
    "#             bigram_probabilities[tokens[0]][tokens[1]] = (bigrams[tokens]+1)/(unigrams[tokens[0]] + len(unigrams))\n",
    "            \n",
    "        if tokens[0] not in bigram_probabilities:\n",
    "            bigram_probabilities[tokens[0]] = {tokens[1] : (bigrams[tokens])/(unigrams[tokens[0]])}\n",
    "        else:\n",
    "            bigram_probabilities[tokens[0]][tokens[1]] = (bigrams[tokens])/(unigrams[tokens[0]])\n",
    "    return bigram_probabilities"
   ]
  },
  {
   "cell_type": "code",
   "execution_count": 141,
   "id": "5e90e854-544e-42f6-92f1-be2c6335d247",
   "metadata": {},
   "outputs": [
    {
     "data": {
      "text/plain": [
       "{'<BOS>': {'are': 0.5,\n",
       "  'where': 0.16666666666666666,\n",
       "  'i': 0.16666666666666666,\n",
       "  'were': 0.16666666666666666},\n",
       " 'are': {'you': 1.0},\n",
       " 'you': {'still': 0.2, '?': 0.2, 'tired': 0.2, 'in': 0.4},\n",
       " 'still': {'here': 1.0},\n",
       " 'here': {'?': 1.0},\n",
       " 'where': {'are': 1.0},\n",
       " 'tired': {'?': 0.5, '.': 0.5},\n",
       " 'i': {'am': 1.0},\n",
       " 'am': {'tired': 1.0},\n",
       " 'in': {'england': 0.5, 'mexico': 0.5},\n",
       " 'england': {'?': 1.0},\n",
       " 'were': {'you': 1.0},\n",
       " 'mexico': {'?': 1.0}}"
      ]
     },
     "execution_count": 141,
     "metadata": {},
     "output_type": "execute_result"
    }
   ],
   "source": [
    "bigram_probabilities = calculate_bigram_probability(bigrams, unigrams)\n",
    "\n",
    "bigram_probabilities"
   ]
  },
  {
   "cell_type": "markdown",
   "id": "d1fa2039-41af-433e-b749-8eb59290caf2",
   "metadata": {},
   "source": [
    "## Check the bigram probabilities"
   ]
  },
  {
   "cell_type": "code",
   "execution_count": 142,
   "id": "e829533f-5554-4168-9643-f306a7e3cdaa",
   "metadata": {},
   "outputs": [],
   "source": [
    "import math\n",
    "def check_bigram_probabilities(corpus, bigram_probabilities, unigram_probabilities, total_tokens):\n",
    "    results = []\n",
    "    for sentence in corpus:\n",
    "        probability = 1\n",
    "        sentence = '<BOS> ' + sentence\n",
    "        words = sentence.split(\" \")\n",
    "        for i in range(len(words)):\n",
    "            if i+1 < len(sentence.split(\" \")):\n",
    "                if words[i+1] not in bigram_probabilities[words[i]]:\n",
    "                    ## Question : Whether to use len(unigram) or total_tokens\n",
    "                    probability *=1/(unigram_probabilities[words[i]] + len(unigram_probabilities))\n",
    "                else:\n",
    "                    probability *=bigram_probabilities[words[i]][words[i+1]]\n",
    "        results.append((sentence, probability))\n",
    "\n",
    "    for sentence in results:\n",
    "        print(sentence[0], sentence[1], math.log(sentence[1]))"
   ]
  },
  {
   "cell_type": "code",
   "execution_count": 143,
   "id": "b07048ac-36d6-4dff-833e-4e986ed7c219",
   "metadata": {},
   "outputs": [
    {
     "name": "stdout",
     "output_type": "stream",
     "text": [
      "<BOS> are you in mexico? 0.013279678068410464 -4.321520377064249\n",
      "<BOS> i am in mexico . 0.0003688784469302809 -7.905043380304895\n",
      "<BOS> are you still in mexico ? 0.0033266129032258063 -5.7058006388124385\n",
      "<BOS> were you in england ? 0.03333333333333333 -3.4011973816621555\n",
      "<BOS> where are you ? 0.03333333333333333 -3.4011973816621555\n"
     ]
    }
   ],
   "source": [
    "test_corpus = [\"are you in mexico?\",\n",
    "               \"i am in mexico .\",\n",
    "               \"are you still in mexico ?\",\n",
    "               \"were you in england ?\",\n",
    "               \"where are you ?\"]\n",
    "check_bigram_probabilities(test_corpus, bigram_probabilities, unigram_probabilities, total_tokens)\n"
   ]
  },
  {
   "cell_type": "markdown",
   "id": "13e3b1c4-75f3-4dc8-a302-031863ff0cfa",
   "metadata": {},
   "source": [
    "## Bigram Perplexity"
   ]
  },
  {
   "cell_type": "code",
   "execution_count": 144,
   "id": "441291d7-a4f6-4d8a-a555-1f3f40a85ad4",
   "metadata": {},
   "outputs": [
    {
     "data": {
      "text/plain": [
       "4.6296296296296307e-07"
      ]
     },
     "execution_count": 144,
     "metadata": {},
     "output_type": "execute_result"
    }
   ],
   "source": [
    "combine_prob = 1\n",
    "\n",
    "for key, item in bigram_probabilities.items():\n",
    "    for k, v in item.items():\n",
    "        combine_prob *= v\n",
    "\n",
    "combine_prob"
   ]
  },
  {
   "cell_type": "code",
   "execution_count": 145,
   "id": "12ca1f3d-1f77-4366-b13a-23fe91625f48",
   "metadata": {},
   "outputs": [
    {
     "data": {
      "text/plain": [
       "1.57743575199102"
      ]
     },
     "execution_count": 145,
     "metadata": {},
     "output_type": "execute_result"
    }
   ],
   "source": [
    "bigram_train_perplexity = combine_prob ** (-1/(total_tokens-1))\n",
    "\n",
    "bigram_train_perplexity"
   ]
  },
  {
   "cell_type": "code",
   "execution_count": 146,
   "id": "eb27667e-3c84-4e79-8137-febfb3ef0e47",
   "metadata": {},
   "outputs": [
    {
     "data": {
      "text/plain": [
       "1.57743575199102"
      ]
     },
     "execution_count": 146,
     "metadata": {},
     "output_type": "execute_result"
    }
   ],
   "source": [
    "bigram_train_perplexity"
   ]
  },
  {
   "cell_type": "markdown",
   "id": "8ab2016d-70d9-4f06-8580-b5ba4f87bab8",
   "metadata": {},
   "source": [
    "## Bigram Test Perplexity"
   ]
  },
  {
   "cell_type": "code",
   "execution_count": 147,
   "id": "91511ff5-79f6-492b-b699-0229b3a4301f",
   "metadata": {},
   "outputs": [
    {
     "name": "stdout",
     "output_type": "stream",
     "text": [
      "2.021631352246097\n"
     ]
    }
   ],
   "source": [
    "test_corpus = [\"are you in mexico ?\",\n",
    "\"i am in mexico .\",\n",
    "\"are you still in mexico ?\",\n",
    "\"i am tired .\",\n",
    "\"were you in england ?\",\n",
    "\"where are you ?\"]\n",
    "\n",
    "test_bigrams = calculate_bigrams(test_corpus)\n",
    "\n",
    "combine_probability = 1\n",
    "for bigram in test_bigrams:\n",
    "    if bigram[1] not in bigram_probabilities[bigram[0]]:\n",
    "        combine_probability*=1/(unigram_probabilities[bigram[0]] + len(unigram_probabilities))\n",
    "    else:\n",
    "        combine_probability*=bigram_probabilities[bigram[0]][bigram[1]]\n",
    "    \n",
    "bigram_test_perplexity = combine_probability ** (-1/(test_total_tokens-1))\n",
    "\n",
    "print(bigram_test_perplexity)"
   ]
  },
  {
   "cell_type": "code",
   "execution_count": 148,
   "id": "2eb7fb3a-582d-4514-9136-98c56d0acc80",
   "metadata": {},
   "outputs": [
    {
     "name": "stdout",
     "output_type": "stream",
     "text": [
      "4.038051077131478\n",
      "3.7543476179207453\n",
      "1.57743575199102\n",
      "2.021631352246097\n"
     ]
    }
   ],
   "source": [
    "print(unigram_train_perplexity)\n",
    "print(unigram_test_perplexity)\n",
    "print(bigram_train_perplexity)\n",
    "print(bigram_test_perplexity)"
   ]
  },
  {
   "cell_type": "code",
   "execution_count": null,
   "id": "1c33c9ff-12f0-4f3b-aefc-9c0423856c87",
   "metadata": {},
   "outputs": [],
   "source": []
  },
  {
   "cell_type": "code",
   "execution_count": 105,
   "id": "739d81fc-0a2f-4a7f-b703-8c629f3641ce",
   "metadata": {},
   "outputs": [],
   "source": [
    "# import sys, math, re, pickle\n",
    "# from collections import defaultdict, Counter\n",
    "\n",
    "# def tokenise(s):\n",
    "#     \"\"\"Tokenise a line\"\"\"\n",
    "#     o = re.sub('([^a-zA-Z0-9\\']+)', ' \\g<1> ', s.strip())\n",
    "#     return re.sub('  *', ' ', o).split(' ')\n",
    "\n",
    "# model = defaultdict(lambda : defaultdict(float)) \n",
    "\n",
    "# bigrams, unigrams = defaultdict(Counter), Counter() # Unigram and bigram counts \n",
    "\n",
    "# corpus = [\"are you still here ?\",\n",
    "# \"where are you ?\",\n",
    "# \"are you tired ?\",\n",
    "# \"i am tired .\",\n",
    "# \"are you in england ?\",\n",
    "# \"were you in mexico ?\"]\n",
    "\n",
    "# for line in corpus: # Collect counts from standard input\n",
    "#     tokens = ['<BOS>'] + tokenise(line)\n",
    "#     for i in range(len(tokens) - 1):\n",
    "#         bigrams[tokens[i]][tokens[i+1]] += 1\n",
    "#         unigrams[tokens[i]] += 1\n",
    "# #     line = sys.stdin.readline()\n",
    "\n",
    "# for i in bigrams: # Calculate probabilities\n",
    "#     for j in bigrams[i]:\n",
    "#         model[i][j] = bigrams[i][j] / unigrams[i]\n",
    "\n",
    "# print('Saved %d bigrams.' % sum([len(i) for i in model.items()]))\n",
    "# pickle.dump(dict(model), open('model.lm', 'wb'))\n",
    "# print(model)\n"
   ]
  },
  {
   "cell_type": "code",
   "execution_count": null,
   "id": "fbb626d9-7f69-4a89-b687-33ce3e93a511",
   "metadata": {},
   "outputs": [],
   "source": []
  }
 ],
 "metadata": {
  "kernelspec": {
   "display_name": "Python 3 (ipykernel)",
   "language": "python",
   "name": "python3"
  },
  "language_info": {
   "codemirror_mode": {
    "name": "ipython",
    "version": 3
   },
   "file_extension": ".py",
   "mimetype": "text/x-python",
   "name": "python",
   "nbconvert_exporter": "python",
   "pygments_lexer": "ipython3",
   "version": "3.9.6"
  }
 },
 "nbformat": 4,
 "nbformat_minor": 5
}
